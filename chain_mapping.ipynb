{
  "nbformat": 4,
  "nbformat_minor": 0,
  "metadata": {
    "colab": {
      "provenance": [],
      "authorship_tag": "ABX9TyNOFAvvDClor+uY+j0Mfjug",
      "include_colab_link": true
    },
    "kernelspec": {
      "name": "python3",
      "display_name": "Python 3"
    },
    "language_info": {
      "name": "python"
    }
  },
  "cells": [
    {
      "cell_type": "markdown",
      "metadata": {
        "id": "view-in-github",
        "colab_type": "text"
      },
      "source": [
        "<a href=\"https://colab.research.google.com/github/zachtahajian5/ChainMapping-Demo/blob/main/chain_mapping.ipynb\" target=\"_parent\"><img src=\"https://colab.research.google.com/assets/colab-badge.svg\" alt=\"Open In Colab\"/></a>"
      ]
    },
    {
      "cell_type": "code",
      "execution_count": null,
      "metadata": {
        "colab": {
          "base_uri": "https://localhost:8080/"
        },
        "id": "MK_S8vyY608T",
        "outputId": "5458803c-e8f4-4265-b73d-0318d1b1ce3a"
      },
      "outputs": [
        {
          "output_type": "stream",
          "name": "stdout",
          "text": [
            "{'hero_name': 'Matthew Murdock',\n",
            " 'alter_ego': 'Matt Murdock',\n",
            " 'first_appearance': 'Daredevil #1 (April 1964)',\n",
            " 'publisher': 'Marvel Comics',\n",
            " 'base_of_operations': 'Hell’s Kitchen, New York'}\n",
            "\n",
            "\n",
            "\n",
            "{'allies': {'Foggy Nelson': 'bestie',\n",
            "            'Karen Page': 'Investigator & confidante',\n",
            "            'Claire Temple': 'Medical ally'},\n",
            " 'adversaries': {'Wilson Fisk': 'Kingpin of crime',\n",
            "                 'Bullseye': 'Psychopathic assassin',\n",
            "                 'Echo': 'Formidable martial artist (sometimes ally)'}}\n"
          ]
        }
      ],
      "source": [
        "#importing 3 different sample dictionaries to establish ChainMap\n",
        "from pprint import pprint\n",
        "from collections import ChainMap\n",
        "# 1. Basic profile information\n",
        "dd_profile = {\n",
        "    \"hero_name\": \"Daredevil\",\n",
        "    \"alter_ego\": \"Matt Murdock\",\n",
        "    \"first_appearance\": \"Daredevil #1 (April 1964)\",\n",
        "    \"publisher\": \"Marvel Comics\",\n",
        "    \"base_of_operations\": \"Hell’s Kitchen, New York\"\n",
        "}\n",
        "\n",
        "# 2. Core abilities and attributes\n",
        "dd_abilities = {\n",
        "    \"height\": \"6′0″\",\n",
        "    \"weight\": \"200 lb\",\n",
        "    \"abilities\": [\n",
        "        \"Peak human conditioning\",\n",
        "        \"Master martial artist\",\n",
        "        \"Expert acrobat\",\n",
        "        \"Radar sense (enhanced hearing)\"\n",
        "    ],\n",
        "    \"skills\": {\n",
        "        \"hand_to_hand_combat\": 10,   # scale 1–10\n",
        "        \"swordsmanship\": 8,\n",
        "        \"stealth\": 9,\n",
        "        \"detective_skills\": 8\n",
        "    }\n",
        "}\n",
        "\n",
        "# 3. Key relationships (allies and adversaries)\n",
        "dd_relationships = {\n",
        "    \"allies\": {\n",
        "        \"Foggy Nelson\": \"Law partner & best friend\",\n",
        "        \"Karen Page\": \"Investigator & confidante\",\n",
        "        \"Claire Temple\": \"Medical ally\"\n",
        "    },\n",
        "    \"adversaries\": {\n",
        "        \"Wilson Fisk\": \"Kingpin of crime\",\n",
        "        \"Bullseye\": \"Psychopathic assassin\",\n",
        "        \"Echo\": \"Formidable martial artist (sometimes ally)\"\n",
        "    }\n",
        "}\n",
        "\n",
        "# # Example usage:\n",
        "# for name, info in dd_profile.items():\n",
        "#     print(f\"{name}: {info}\")\n",
        "\n",
        "#creating the ChainMap object, we'll call it demo_chain\n",
        "\n",
        "demo_chain = ChainMap(dd_profile, dd_abilities, dd_relationships)\n",
        "\n",
        "#demonstrating our ability to manipulate key values in the first dict(first in insertion order) of the ChainMap\n",
        "\n",
        "demo_chain[\"hero_name\"] = \"Matthew Murdock\"\n",
        "\n",
        "#verifying the modification through a print statement\n",
        "pprint(dd_profile, sort_dicts=False)\n",
        "#output\n",
        "#{'hero_name': 'Matthew Murdock',\n",
        "# 'alter_ego': 'Matt Murdock',\n",
        "# 'first_appearance': 'Daredevil #1 (April 1964)',\n",
        "# 'publisher': 'Marvel Comics',\n",
        "# 'base_of_operations': 'Hell’s Kitchen, New York'}\n",
        "\n",
        "\n",
        "#reverting hero_profile dict to original state\n",
        "\n",
        "demo_chain[\"hero_name\"] = \"Daredevil\"\n",
        "\n",
        "#now demonstrating our inability to manipulate key values in dictionaries after the first dict of the ChainMap\n",
        "\n",
        "demo_chain[\"allies\"][\"Foggy Nelson\"] = \"bestie\"\n",
        "\n",
        "#verifying that we couldn't modify a key that's not the first insertion with a print statement\n",
        "\n",
        "print(\"\\n\" * 2)\n",
        "pprint(dd_relationships, sort_dicts=False)"
      ]
    }
  ]
}